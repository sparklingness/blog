{
  "nbformat": 4,
  "nbformat_minor": 0,
  "metadata": {
    "colab": {
      "name": "Inspect BERT Vocabulary.ipynb",
      "provenance": [],
      "toc_visible": true
    },
    "kernelspec": {
      "name": "python3",
      "display_name": "Python 3"
    },
    "accelerator": "GPU"
  },
  "cells": [
    {
    "cell_type": "markdown",
    "metadata": {},
    "source": [
      "# Bert Notebook Blog Post\n",
      "> A tutorial of BERT for Jupyter notebooks.\n",
      "\n",
      "- toc: true \n",
      "- badges: true\n",
      "- comments: true\n",
      "- categories: [bert, jupyter]\n"
      ]
    }
  ]
}
