{
  "nbformat": 4,
  "nbformat_minor": 0,
  "metadata": {
    "colab": {
      "name": "2020_05_05_BERT_Document_Classification_Tutorial_with_Code.ipynb",
      "provenance": [],
      "toc_visible": true
    },
    "kernelspec": {
      "name": "python3",
      "display_name": "Python 3"
    },
    "accelerator": "GPU"
  },
  "cells": [
    {
      "cell_type": "markdown",
      "metadata": {
        "id": "Scx3Rv9fWf_h",
        "colab_type": "text"
      },
      "source": [
        "# BERT Document Classification Tutorial\n",
        "> BERT Document Classification Tutorial  with Code\n",
        "> \n",
        "> ref: https://www.youtube.com/watch?v=_eSGWNqKeeY\n",
        "\n",
        "- toc: true\n",
        "- branch: master\n",
        "- badges: true\n",
        "- comments: true\n",
        "- categories: [bert, jupyter]\n",
        "- hide: false\n",
        "- search_exclude: true"
      ]
    },
    {
      "cell_type": "markdown",
      "metadata": {
        "id": "DXeq3NEBF8Rv",
        "colab_type": "text"
      },
      "source": [
        "# Classifying Wikipedia Comments with BERT"
      ]
    },
    {
      "cell_type": "markdown",
      "metadata": {
        "id": "UIlVLcMQF8Ou",
        "colab_type": "text"
      },
      "source": [
        "# Contents"
      ]
    },
    {
      "cell_type": "markdown",
      "metadata": {
        "id": "Q_59-v5rFrdB",
        "colab_type": "text"
      },
      "source": [
        "# Part I - Setup & Dataset Prep"
      ]
    },
    {
      "cell_type": "markdown",
      "metadata": {
        "id": "uXF93IIQH7O1",
        "colab_type": "text"
      },
      "source": [
        "## 1. Setup"
      ]
    },
    {
      "cell_type": "markdown",
      "metadata": {
        "id": "Fz73ENp-H-db",
        "colab_type": "text"
      },
      "source": [
        "## 2. Retrieve & Inspect Dataset"
      ]
    },
    {
      "cell_type": "markdown",
      "metadata": {
        "id": "9eXYQ5iGICML",
        "colab_type": "text"
      },
      "source": [
        "## 3. BERT Input Length Limitation"
      ]
    },
    {
      "cell_type": "markdown",
      "metadata": {
        "id": "t86padpqFrJP",
        "colab_type": "text"
      },
      "source": [
        "# Part II - BERT Fine-Tuning"
      ]
    },
    {
      "cell_type": "markdown",
      "metadata": {
        "id": "MBwShO1CQSpn",
        "colab_type": "text"
      },
      "source": [
        "## 4. Train Our Classification Model"
      ]
    },
    {
      "cell_type": "markdown",
      "metadata": {
        "id": "rcCjkucgQSYx",
        "colab_type": "text"
      },
      "source": [
        "## 5. Performance On Test Set"
      ]
    },
    {
      "cell_type": "markdown",
      "metadata": {
        "id": "pEV5rY2JQSG8",
        "colab_type": "text"
      },
      "source": [
        "## 6. Save Trained Model"
      ]
    },
    {
      "cell_type": "markdown",
      "metadata": {
        "id": "mqVRl8_CFrAr",
        "colab_type": "text"
      },
      "source": [
        "# Part III - Semantic Similarity"
      ]
    },
    {
      "cell_type": "markdown",
      "metadata": {
        "id": "iSWYIkcsX3PS",
        "colab_type": "text"
      },
      "source": [
        "## 7. Vectorize Comments"
      ]
    },
    {
      "cell_type": "markdown",
      "metadata": {
        "id": "aW0tJFyxX2xu",
        "colab_type": "text"
      },
      "source": [
        "## 8. Semantic Similarity Search"
      ]
    },
    {
      "cell_type": "code",
      "metadata": {
        "id": "2Wwk2YDYE-Cb",
        "colab_type": "code",
        "colab": {}
      },
      "source": [
        ""
      ],
      "execution_count": 0,
      "outputs": []
    }
  ]
}